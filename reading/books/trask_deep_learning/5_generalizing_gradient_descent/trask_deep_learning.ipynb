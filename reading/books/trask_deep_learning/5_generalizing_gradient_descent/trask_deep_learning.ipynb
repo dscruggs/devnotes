{
 "cells": [
  {
   "cell_type": "code",
   "execution_count": 2,
   "metadata": {},
   "outputs": [],
   "source": [
    "import pandas as pd\n",
    "import numpy as np"
   ]
  },
  {
   "cell_type": "markdown",
   "metadata": {},
   "source": [
    "# 4. Gradient Descent"
   ]
  },
  {
   "cell_type": "markdown",
   "metadata": {},
   "source": [
    "## Single input/weight"
   ]
  },
  {
   "cell_type": "code",
   "execution_count": 9,
   "metadata": {},
   "outputs": [],
   "source": [
    "def gradient_descent(input,initial_weight,goal_pred,max_iter=50,thresh = 0.0000001,verbose=True):\n",
    "    curr_weight = initial_weight\n",
    "    \n",
    "    for iter_num in range(max_iter):\n",
    "        pred = input * curr_weight\n",
    "        error = (pred - goal_pred) ** 2\n",
    "        print(f'Error: {error}  Prediction: {pred}')\n",
    "        if error < thresh:\n",
    "            break\n",
    "        else:\n",
    "            delta = pred - goal_pred\n",
    "            weight_delta = delta * input\n",
    "            curr_weight = curr_weight - weight_delta\n",
    "    \n",
    "    return pred"
   ]
  },
  {
   "cell_type": "code",
   "execution_count": 10,
   "metadata": {},
   "outputs": [
    {
     "name": "stdout",
     "output_type": "stream",
     "text": [
      "Error: 0.30250000000000005  Prediction: 0.25\n",
      "Error: 0.17015625000000004  Prediction: 0.3875\n",
      "Error: 0.095712890625  Prediction: 0.49062500000000003\n",
      "Error: 0.05383850097656251  Prediction: 0.56796875\n",
      "Error: 0.03028415679931642  Prediction: 0.6259765625\n",
      "Error: 0.0170348381996155  Prediction: 0.669482421875\n",
      "Error: 0.00958209648728372  Prediction: 0.70211181640625\n",
      "Error: 0.005389929274097089  Prediction: 0.7265838623046875\n",
      "Error: 0.0030318352166796153  Prediction: 0.7449378967285156\n",
      "Error: 0.0017054073093822882  Prediction: 0.7587034225463867\n",
      "Error: 0.0009592916115275371  Prediction: 0.76902756690979\n",
      "Error: 0.0005396015314842384  Prediction: 0.7767706751823426\n",
      "Error: 0.000303525861459885  Prediction: 0.7825780063867569\n",
      "Error: 0.00017073329707118678  Prediction: 0.7869335047900676\n",
      "Error: 9.603747960254256e-05  Prediction: 0.7902001285925507\n",
      "Error: 5.402108227642978e-05  Prediction: 0.7926500964444131\n",
      "Error: 3.038685878049206e-05  Prediction: 0.7944875723333098\n",
      "Error: 1.7092608064027242e-05  Prediction: 0.7958656792499823\n",
      "Error: 9.614592036015323e-06  Prediction: 0.7968992594374867\n",
      "Error: 5.408208020258491e-06  Prediction: 0.7976744445781151\n",
      "Error: 3.0421170113954975e-06  Prediction: 0.7982558334335863\n",
      "Error: 1.7111908189101127e-06  Prediction: 0.7986918750751897\n",
      "Error: 9.625448356369383e-07  Prediction: 0.7990189063063923\n",
      "Error: 5.41431470045737e-07  Prediction: 0.7992641797297942\n",
      "Error: 3.045552019007577e-07  Prediction: 0.7994481347973457\n",
      "Error: 1.7131230106922215e-07  Prediction: 0.7995861010980092\n",
      "Error: 9.636316935140299e-08  Prediction: 0.799689575823507\n"
     ]
    }
   ],
   "source": [
    "pred = gradient_descent(input=0.5,initial_weight=0.5,goal_pred=0.8)"
   ]
  },
  {
   "cell_type": "code",
   "execution_count": 11,
   "metadata": {},
   "outputs": [],
   "source": [
    "def gradient_descent(input,initial_weight,goal_pred,alpha=0.1,max_iter=50,thresh = 0.0000001,verbose=True):\n",
    "    curr_weight = initial_weight\n",
    "    \n",
    "    for iter_num in range(max_iter):\n",
    "        pred = input * curr_weight\n",
    "        error = (pred - goal_pred) ** 2\n",
    "        print(f'Error: {error}  Prediction: {pred}')\n",
    "        if error < thresh:\n",
    "            break\n",
    "        else:\n",
    "            delta = pred - goal_pred\n",
    "            weight_delta = delta * input\n",
    "            curr_weight = curr_weight - (alpha * weight_delta)\n",
    "    \n",
    "    return pred"
   ]
  },
  {
   "cell_type": "code",
   "execution_count": 12,
   "metadata": {},
   "outputs": [
    {
     "name": "stdout",
     "output_type": "stream",
     "text": [
      "Error: 0.30250000000000005  Prediction: 0.25\n",
      "Error: 0.2875640625000001  Prediction: 0.26375\n",
      "Error: 0.27336558691406254  Prediction: 0.27715625\n",
      "Error: 0.2598681610601807  Prediction: 0.29022734375\n",
      "Error: 0.2470371706078343  Prediction: 0.30297166015625\n",
      "Error: 0.23483971030907247  Prediction: 0.31539736865234375\n",
      "Error: 0.22324449961256201  Prediction: 0.32751243443603517\n",
      "Error: 0.21222180244419178  Prediction: 0.33932462357513427\n",
      "Error: 0.20174335094850981  Prediction: 0.3508415079857559\n",
      "Error: 0.19178227299542716  Prediction: 0.362070470286112\n",
      "Error: 0.18231302326627793  Prediction: 0.3730187085289592\n",
      "Error: 0.1733113177425055  Prediction: 0.3836932408157352\n",
      "Error: 0.1647540714289693  Prediction: 0.3941009097953418\n",
      "Error: 0.15661933915216394  Prediction: 0.40424838705045824\n",
      "Error: 0.14888625928152585  Prediction: 0.4141421773741968\n",
      "Error: 0.1415350002295005  Prediction: 0.4237886229398419\n",
      "Error: 0.13454670959316892  Prediction: 0.43319390736634583\n",
      "Error: 0.1279034658070062  Prediction: 0.44236405968218717\n",
      "Error: 0.12158823218278528  Prediction: 0.4513049581901325\n",
      "Error: 0.11558481321876025  Prediction: 0.4600223342353792\n",
      "Error: 0.10987781306608395  Prediction: 0.46852177587949473\n",
      "Error: 0.10445259604594606  Prediction: 0.47680873148250735\n",
      "Error: 0.09929524911617747  Prediction: 0.4848885131954447\n",
      "Error: 0.0943925461910662  Prediction: 0.4927663003655586\n",
      "Error: 0.08973191422288233  Prediction: 0.5004471428564196\n",
      "Error: 0.08530140095812751  Prediction: 0.5079359642850091\n",
      "Error: 0.08108964428581995  Prediction: 0.5152375651778839\n",
      "Error: 0.07708584309920759  Prediction: 0.5223566260484368\n",
      "Error: 0.07327972959618423  Prediction: 0.5292977103972258\n",
      "Error: 0.06966154294737262  Prediction: 0.5360652676372952\n",
      "Error: 0.06622200426434613  Prediction: 0.5426636359463628\n",
      "Error: 0.06295229280379402  Prediction: 0.5490970450477037\n",
      "Error: 0.0598440233466067  Prediction: 0.5553696189215112\n",
      "Error: 0.056889224693868  Prediction: 0.5614853784484733\n",
      "Error: 0.05408031922460824  Prediction: 0.5674482439872616\n",
      "Error: 0.05141010346289322  Prediction: 0.57326203788758\n",
      "Error: 0.04887172960441287  Prediction: 0.5789304869403905\n",
      "Error: 0.04645868795519497  Prediction: 0.5844572247668808\n",
      "Error: 0.044164790237407214  Prediction: 0.5898457941477088\n",
      "Error: 0.04198415371943524  Prediction: 0.595099649294016\n",
      "Error: 0.03991118612953811  Prediction: 0.6002221580616657\n",
      "Error: 0.03794057131439218  Prediction: 0.605216604110124\n",
      "Error: 0.03606725560574407  Prediction: 0.6100861890073709\n",
      "Error: 0.03428643486021045  Prediction: 0.6148340342821866\n",
      "Error: 0.03259354213898757  Prediction: 0.619463183425132\n",
      "Error: 0.030984235995875038  Prediction: 0.6239766038395037\n",
      "Error: 0.029454389343578708  Prediction: 0.6283771887435161\n",
      "Error: 0.028000078869739504  Prediction: 0.6326677590249282\n",
      "Error: 0.026617574975546125  Prediction: 0.636851065049305\n",
      "Error: 0.02530333221112854  Prediction: 0.6409297884230724\n"
     ]
    }
   ],
   "source": [
    "pred = gradient_descent(input=0.5,initial_weight=0.5,goal_pred=0.8,alpha=0.1)"
   ]
  },
  {
   "cell_type": "markdown",
   "metadata": {},
   "source": [
    "# 5. generalizing gradient descent"
   ]
  },
  {
   "cell_type": "markdown",
   "metadata": {},
   "source": [
    "## Multiple Inputs/Weights"
   ]
  },
  {
   "cell_type": "code",
   "execution_count": 14,
   "metadata": {},
   "outputs": [],
   "source": [
    "def neural_network(input,weights):\n",
    "    out = np.sum(input*weights)\n",
    "    return out"
   ]
  },
  {
   "cell_type": "code",
   "execution_count": 15,
   "metadata": {},
   "outputs": [],
   "source": [
    "toes = np.array([8.5,9.5,9.9,9.0])\n",
    "wlrec = np.array([0.65,0.8,0.8,0.9])\n",
    "nfans = np.array([1.2,1.3,0.5,1.0])"
   ]
  },
  {
   "cell_type": "code",
   "execution_count": 21,
   "metadata": {},
   "outputs": [],
   "source": [
    "input_arr = np.array([toes,wlrec,nfans]).T"
   ]
  },
  {
   "cell_type": "code",
   "execution_count": 35,
   "metadata": {},
   "outputs": [],
   "source": [
    "weights = np.array([0.1,0.2,-.1])"
   ]
  },
  {
   "cell_type": "code",
   "execution_count": 24,
   "metadata": {},
   "outputs": [],
   "source": [
    "win_loss_binary = np.array([1,1,0,1]).T"
   ]
  },
  {
   "cell_type": "code",
   "execution_count": 68,
   "metadata": {},
   "outputs": [],
   "source": [
    "def grad_desc_multi_weight(inputs,initial_weights,goal_pred,alpha=0.1,max_iter=50,thresh=0.00001,verbose=True):\n",
    "    curr_weights = initial_weights\n",
    "    \n",
    "    for itern_num in range(max_iter):\n",
    "        pred = np.sum(inputs*curr_weights)\n",
    "        error = (pred - goal_pred) ** 2\n",
    "        delta = pred - goal_pred\n",
    "        weight_deltas = delta*inputs\n",
    "        curr_weights = curr_weights - (alpha*weight_deltas)\n",
    "        if verbose:\n",
    "            print(f'Error: {error}')\n",
    "            print(f'Delta: {delta}')\n",
    "            print(f'weight_deltas: {weight_deltas}')\n",
    "            print(f'weights: {initial_weights}')\n",
    "            print(f'curr_weights: {curr_weights}')\n",
    "      \n",
    "    return pred"
   ]
  },
  {
   "cell_type": "code",
   "execution_count": 69,
   "metadata": {
    "scrolled": true
   },
   "outputs": [
    {
     "data": {
      "text/plain": [
       "array([8.5 , 0.65, 1.2 ])"
      ]
     },
     "execution_count": 69,
     "metadata": {},
     "output_type": "execute_result"
    }
   ],
   "source": [
    "input_arr[0,:]"
   ]
  },
  {
   "cell_type": "code",
   "execution_count": 70,
   "metadata": {},
   "outputs": [
    {
     "data": {
      "text/plain": [
       "array([ 0.1,  0.2, -0.1])"
      ]
     },
     "execution_count": 70,
     "metadata": {},
     "output_type": "execute_result"
    }
   ],
   "source": [
    "weights"
   ]
  },
  {
   "cell_type": "code",
   "execution_count": 71,
   "metadata": {},
   "outputs": [
    {
     "data": {
      "text/plain": [
       "0.8600000000000001"
      ]
     },
     "execution_count": 71,
     "metadata": {},
     "output_type": "execute_result"
    }
   ],
   "source": [
    "np.sum(input_arr[0,:]*weights)"
   ]
  },
  {
   "cell_type": "code",
   "execution_count": 76,
   "metadata": {},
   "outputs": [
    {
     "name": "stdout",
     "output_type": "stream",
     "text": [
      "Error: 0.01959999999999997\n",
      "Delta: -0.1399999999999999\n",
      "weight_deltas: [-1.19  -0.091 -0.168]\n",
      "weights: [ 0.1  0.2 -0.1]\n",
      "curr_weights: [ 0.1119   0.20091 -0.09832]\n",
      "Error: 0.0013135188062500048\n",
      "Delta: -0.036242500000000066\n",
      "weight_deltas: [-0.30806125 -0.02355763 -0.043491  ]\n",
      "weights: [ 0.1  0.2 -0.1]\n",
      "curr_weights: [ 0.11498061  0.20114558 -0.09788509]\n",
      "Error: 8.802712522307997e-05\n",
      "Delta: -0.009382277187499843\n",
      "weight_deltas: [-0.07974936 -0.00609848 -0.01125873]\n",
      "weights: [ 0.1  0.2 -0.1]\n",
      "curr_weights: [ 0.11577811  0.20120656 -0.0977725 ]\n",
      "Error: 5.899249206154892e-06\n",
      "Delta: -0.0024288370069139864\n",
      "weight_deltas: [-0.02064511 -0.00157874 -0.0029146 ]\n",
      "weights: [ 0.1  0.2 -0.1]\n",
      "curr_weights: [ 0.11598456  0.20122235 -0.09774336]\n",
      "Error: 3.953456517877471e-07\n",
      "Delta: -0.0006287651801648586\n",
      "weight_deltas: [-0.0053445  -0.0004087  -0.00075452]\n",
      "weights: [ 0.1  0.2 -0.1]\n",
      "curr_weights: [ 0.116038    0.20122644 -0.09773581]\n",
      "Error: 2.6494589213863218e-08\n",
      "Delta: -0.0001627715860150758\n",
      "weight_deltas: [-0.00138356 -0.0001058  -0.00019533]\n",
      "weights: [ 0.1  0.2 -0.1]\n",
      "curr_weights: [ 0.11605184  0.20122749 -0.09773386]\n",
      "Error: 1.7755684283936714e-09\n",
      "Delta: -4.2137494329796965e-05\n",
      "weight_deltas: [-3.58168702e-04 -2.73893713e-05 -5.05649932e-05]\n",
      "weights: [ 0.1  0.2 -0.1]\n",
      "curr_weights: [ 0.11605542  0.20122777 -0.09773335]\n",
      "Error: 1.189919654307157e-10\n",
      "Delta: -1.0908343844540092e-05\n",
      "weight_deltas: [-9.27209227e-05 -7.09042350e-06 -1.30900126e-05]\n",
      "weights: [ 0.1  0.2 -0.1]\n",
      "curr_weights: [ 0.11605635  0.20122784 -0.09773322]\n",
      "Error: 7.974397162950331e-12\n",
      "Delta: -2.8238975128269672e-06\n",
      "weight_deltas: [-2.40031289e-05 -1.83553338e-06 -3.38867702e-06]\n",
      "weights: [ 0.1  0.2 -0.1]\n",
      "curr_weights: [ 0.11605659  0.20122786 -0.09773319]\n",
      "Error: 5.344143185591192e-13\n",
      "Delta: -7.310364686929915e-07\n",
      "weight_deltas: [-6.21380998e-06 -4.75173705e-07 -8.77243762e-07]\n",
      "weights: [ 0.1  0.2 -0.1]\n",
      "curr_weights: [ 0.11605665  0.20122786 -0.09773318]\n",
      "Error: 3.581445191241023e-14\n",
      "Delta: -1.8924706579603878e-07\n",
      "weight_deltas: [-1.60860006e-06 -1.23010593e-07 -2.27096479e-07]\n",
      "weights: [ 0.1  0.2 -0.1]\n",
      "curr_weights: [ 0.11605666  0.20122786 -0.09773318]\n",
      "Error: 2.4001508278382324e-15\n",
      "Delta: -4.899133421165658e-08\n",
      "weight_deltas: [-4.16426341e-07 -3.18443672e-08 -5.87896011e-08]\n",
      "weights: [ 0.1  0.2 -0.1]\n",
      "curr_weights: [ 0.11605667  0.20122786 -0.09773318]\n",
      "Error: 1.6084914741122043e-16\n",
      "Delta: -1.2682631722604754e-08\n",
      "weight_deltas: [-1.07802370e-07 -8.24371062e-09 -1.52191581e-08]\n",
      "weights: [ 0.1  0.2 -0.1]\n",
      "curr_weights: [ 0.11605667  0.20122786 -0.09773318]\n",
      "Error: 1.0779508973312966e-17\n",
      "Delta: -3.2832162544238486e-09\n",
      "weight_deltas: [-2.79073382e-08 -2.13409057e-09 -3.93985951e-09]\n",
      "weights: [ 0.1  0.2 -0.1]\n",
      "curr_weights: [ 0.11605667  0.20122786 -0.09773318]\n",
      "Error: 7.22402356619552e-19\n",
      "Delta: -8.499425607766398e-10\n",
      "weight_deltas: [-7.22451177e-09 -5.52462665e-10 -1.01993107e-09]\n",
      "weights: [ 0.1  0.2 -0.1]\n",
      "curr_weights: [ 0.11605667  0.20122786 -0.09773318]\n",
      "Error: 4.8412758651194115e-20\n",
      "Delta: -2.2002899502382434e-10\n",
      "weight_deltas: [-1.87024646e-09 -1.43018847e-10 -2.64034794e-10]\n",
      "weights: [ 0.1  0.2 -0.1]\n",
      "curr_weights: [ 0.11605667  0.20122786 -0.09773318]\n",
      "Error: 3.244453368025973e-21\n",
      "Delta: -5.696010330069612e-11\n",
      "weight_deltas: [-4.84160878e-10 -3.70240671e-11 -6.83521240e-11]\n",
      "weights: [ 0.1  0.2 -0.1]\n",
      "curr_weights: [ 0.11605667  0.20122786 -0.09773318]\n",
      "Error: 2.1742762040739114e-22\n",
      "Delta: -1.4745427101559017e-11\n",
      "weight_deltas: [-1.25336130e-10 -9.58452762e-12 -1.76945125e-11]\n",
      "weights: [ 0.1  0.2 -0.1]\n",
      "curr_weights: [ 0.11605667  0.20122786 -0.09773318]\n",
      "Error: 1.4570777672628814e-23\n",
      "Delta: -3.817168803266213e-12\n",
      "weight_deltas: [-3.24459348e-11 -2.48115972e-12 -4.58060256e-12]\n",
      "weights: [ 0.1  0.2 -0.1]\n",
      "curr_weights: [ 0.11605667  0.20122786 -0.09773318]\n",
      "Error: 9.7611924011413e-25\n",
      "Delta: -9.879874696139268e-13\n",
      "weight_deltas: [-8.39789349e-12 -6.42191855e-13 -1.18558496e-12]\n",
      "weights: [ 0.1  0.2 -0.1]\n",
      "curr_weights: [ 0.11605667  0.20122786 -0.09773318]\n",
      "Error: 6.548808923377916e-26\n",
      "Delta: -2.559064071760986e-13\n",
      "weight_deltas: [-2.17520446e-12 -1.66339165e-13 -3.07087689e-13]\n",
      "weights: [ 0.1  0.2 -0.1]\n",
      "curr_weights: [ 0.11605667  0.20122786 -0.09773318]\n",
      "Error: 4.40780961172898e-27\n",
      "Delta: -6.639133687258436e-14\n",
      "weight_deltas: [-5.64326363e-13 -4.31543690e-14 -7.96696042e-14]\n",
      "weights: [ 0.1  0.2 -0.1]\n",
      "curr_weights: [ 0.11605667  0.20122786 -0.09773318]\n",
      "Error: 2.8853820203622915e-28\n",
      "Delta: -1.6986412276764895e-14\n",
      "weight_deltas: [-1.44384504e-13 -1.10411680e-14 -2.03836947e-14]\n",
      "weights: [ 0.1  0.2 -0.1]\n",
      "curr_weights: [ 0.11605667  0.20122786 -0.09773318]\n",
      "Error: 2.0719924713695638e-29\n",
      "Delta: -4.551914400963142e-15\n",
      "weight_deltas: [-3.86912724e-14 -2.95874436e-15 -5.46229728e-15]\n",
      "weights: [ 0.1  0.2 -0.1]\n",
      "curr_weights: [ 0.11605667  0.20122786 -0.09773318]\n",
      "Error: 1.232595164407831e-30\n",
      "Delta: -1.1102230246251565e-15\n",
      "weight_deltas: [-9.43689571e-15 -7.21644966e-16 -1.33226763e-15]\n",
      "weights: [ 0.1  0.2 -0.1]\n",
      "curr_weights: [ 0.11605667  0.20122786 -0.09773318]\n",
      "Error: 4.930380657631324e-32\n",
      "Delta: -2.220446049250313e-16\n",
      "weight_deltas: [-1.88737914e-15 -1.44328993e-16 -2.66453526e-16]\n",
      "weights: [ 0.1  0.2 -0.1]\n",
      "curr_weights: [ 0.11605667  0.20122786 -0.09773318]\n",
      "Error: 4.930380657631324e-32\n",
      "Delta: -2.220446049250313e-16\n",
      "weight_deltas: [-1.88737914e-15 -1.44328993e-16 -2.66453526e-16]\n",
      "weights: [ 0.1  0.2 -0.1]\n",
      "curr_weights: [ 0.11605667  0.20122786 -0.09773318]\n",
      "Error: 0.0\n",
      "Delta: 0.0\n",
      "weight_deltas: [0. 0. 0.]\n",
      "weights: [ 0.1  0.2 -0.1]\n",
      "curr_weights: [ 0.11605667  0.20122786 -0.09773318]\n",
      "Error: 0.0\n",
      "Delta: 0.0\n",
      "weight_deltas: [0. 0. 0.]\n",
      "weights: [ 0.1  0.2 -0.1]\n",
      "curr_weights: [ 0.11605667  0.20122786 -0.09773318]\n",
      "Error: 0.0\n",
      "Delta: 0.0\n",
      "weight_deltas: [0. 0. 0.]\n",
      "weights: [ 0.1  0.2 -0.1]\n",
      "curr_weights: [ 0.11605667  0.20122786 -0.09773318]\n",
      "Error: 0.0\n",
      "Delta: 0.0\n",
      "weight_deltas: [0. 0. 0.]\n",
      "weights: [ 0.1  0.2 -0.1]\n",
      "curr_weights: [ 0.11605667  0.20122786 -0.09773318]\n",
      "Error: 0.0\n",
      "Delta: 0.0\n",
      "weight_deltas: [0. 0. 0.]\n",
      "weights: [ 0.1  0.2 -0.1]\n",
      "curr_weights: [ 0.11605667  0.20122786 -0.09773318]\n",
      "Error: 0.0\n",
      "Delta: 0.0\n",
      "weight_deltas: [0. 0. 0.]\n",
      "weights: [ 0.1  0.2 -0.1]\n",
      "curr_weights: [ 0.11605667  0.20122786 -0.09773318]\n",
      "Error: 0.0\n",
      "Delta: 0.0\n",
      "weight_deltas: [0. 0. 0.]\n",
      "weights: [ 0.1  0.2 -0.1]\n",
      "curr_weights: [ 0.11605667  0.20122786 -0.09773318]\n",
      "Error: 0.0\n",
      "Delta: 0.0\n",
      "weight_deltas: [0. 0. 0.]\n",
      "weights: [ 0.1  0.2 -0.1]\n",
      "curr_weights: [ 0.11605667  0.20122786 -0.09773318]\n",
      "Error: 0.0\n",
      "Delta: 0.0\n",
      "weight_deltas: [0. 0. 0.]\n",
      "weights: [ 0.1  0.2 -0.1]\n",
      "curr_weights: [ 0.11605667  0.20122786 -0.09773318]\n",
      "Error: 0.0\n",
      "Delta: 0.0\n",
      "weight_deltas: [0. 0. 0.]\n",
      "weights: [ 0.1  0.2 -0.1]\n",
      "curr_weights: [ 0.11605667  0.20122786 -0.09773318]\n",
      "Error: 0.0\n",
      "Delta: 0.0\n",
      "weight_deltas: [0. 0. 0.]\n",
      "weights: [ 0.1  0.2 -0.1]\n",
      "curr_weights: [ 0.11605667  0.20122786 -0.09773318]\n",
      "Error: 0.0\n",
      "Delta: 0.0\n",
      "weight_deltas: [0. 0. 0.]\n",
      "weights: [ 0.1  0.2 -0.1]\n",
      "curr_weights: [ 0.11605667  0.20122786 -0.09773318]\n",
      "Error: 0.0\n",
      "Delta: 0.0\n",
      "weight_deltas: [0. 0. 0.]\n",
      "weights: [ 0.1  0.2 -0.1]\n",
      "curr_weights: [ 0.11605667  0.20122786 -0.09773318]\n",
      "Error: 0.0\n",
      "Delta: 0.0\n",
      "weight_deltas: [0. 0. 0.]\n",
      "weights: [ 0.1  0.2 -0.1]\n",
      "curr_weights: [ 0.11605667  0.20122786 -0.09773318]\n",
      "Error: 0.0\n",
      "Delta: 0.0\n",
      "weight_deltas: [0. 0. 0.]\n",
      "weights: [ 0.1  0.2 -0.1]\n",
      "curr_weights: [ 0.11605667  0.20122786 -0.09773318]\n",
      "Error: 0.0\n",
      "Delta: 0.0\n",
      "weight_deltas: [0. 0. 0.]\n",
      "weights: [ 0.1  0.2 -0.1]\n",
      "curr_weights: [ 0.11605667  0.20122786 -0.09773318]\n",
      "Error: 0.0\n",
      "Delta: 0.0\n",
      "weight_deltas: [0. 0. 0.]\n",
      "weights: [ 0.1  0.2 -0.1]\n",
      "curr_weights: [ 0.11605667  0.20122786 -0.09773318]\n",
      "Error: 0.0\n",
      "Delta: 0.0\n",
      "weight_deltas: [0. 0. 0.]\n",
      "weights: [ 0.1  0.2 -0.1]\n",
      "curr_weights: [ 0.11605667  0.20122786 -0.09773318]\n",
      "Error: 0.0\n",
      "Delta: 0.0\n",
      "weight_deltas: [0. 0. 0.]\n",
      "weights: [ 0.1  0.2 -0.1]\n",
      "curr_weights: [ 0.11605667  0.20122786 -0.09773318]\n",
      "Error: 0.0\n",
      "Delta: 0.0\n",
      "weight_deltas: [0. 0. 0.]\n",
      "weights: [ 0.1  0.2 -0.1]\n",
      "curr_weights: [ 0.11605667  0.20122786 -0.09773318]\n",
      "Error: 0.0\n",
      "Delta: 0.0\n",
      "weight_deltas: [0. 0. 0.]\n",
      "weights: [ 0.1  0.2 -0.1]\n",
      "curr_weights: [ 0.11605667  0.20122786 -0.09773318]\n",
      "Error: 0.0\n",
      "Delta: 0.0\n",
      "weight_deltas: [0. 0. 0.]\n",
      "weights: [ 0.1  0.2 -0.1]\n",
      "curr_weights: [ 0.11605667  0.20122786 -0.09773318]\n",
      "Error: 0.0\n",
      "Delta: 0.0\n",
      "weight_deltas: [0. 0. 0.]\n",
      "weights: [ 0.1  0.2 -0.1]\n",
      "curr_weights: [ 0.11605667  0.20122786 -0.09773318]\n"
     ]
    }
   ],
   "source": [
    "pred = grad_desc_multi_weight(input_arr[0,:],weights,win_loss_binary[0],alpha=0.01,verbose=True)"
   ]
  },
  {
   "cell_type": "code",
   "execution_count": 75,
   "metadata": {},
   "outputs": [
    {
     "data": {
      "text/plain": [
       "1.0"
      ]
     },
     "execution_count": 75,
     "metadata": {},
     "output_type": "execute_result"
    }
   ],
   "source": [
    "pred"
   ]
  },
  {
   "cell_type": "markdown",
   "metadata": {},
   "source": [
    "## Multiple outputs single input"
   ]
  },
  {
   "cell_type": "code",
   "execution_count": 3,
   "metadata": {},
   "outputs": [],
   "source": [
    "weights = np.array([0.3,0.2,0.9])\n",
    "wlrec = np.array([0.65,1.0,1.0,0.9])\n",
    "hurt = np.array([0.1,0.0,0.0,0.1])\n",
    "win = np.array([1.0,1.0,0.0,1.0])\n",
    "sad = np.array([0.1,0.0,0.1,0.2])"
   ]
  },
  {
   "cell_type": "code",
   "execution_count": 5,
   "metadata": {},
   "outputs": [],
   "source": [
    "goal_preds = np.array([hurt,win,sad]).T"
   ]
  },
  {
   "cell_type": "code",
   "execution_count": 6,
   "metadata": {},
   "outputs": [
    {
     "data": {
      "text/plain": [
       "array([0.1, 1. , 0.1])"
      ]
     },
     "execution_count": 6,
     "metadata": {},
     "output_type": "execute_result"
    }
   ],
   "source": [
    "goal_preds[0,:]"
   ]
  },
  {
   "cell_type": "code",
   "execution_count": 13,
   "metadata": {},
   "outputs": [],
   "source": [
    "def grad_desc_mult_outputs(inputs,initial_weights,goal_preds,alpha=0.1,max_iter=50,thresh=0.00001,verbose=True):\n",
    "    curr_weights = initial_weights\n",
    "    \n",
    "    for itern_num in range(max_iter):\n",
    "        preds = inputs*curr_weights\n",
    "        error = (preds - goal_preds) ** 2\n",
    "        delta = preds - goal_preds\n",
    "        weight_deltas = deltas*inputs\n",
    "        curr_weights = curr_weights - (alpha*weight_deltas)\n",
    "        if verbose:\n",
    "            print(f'Error: {errors}')\n",
    "            print(f'Delta: {deltas}')\n",
    "            print(f'weight_deltas: {weight_deltas}')\n",
    "            print(f'weights: {initial_weights}')\n",
    "            print(f'curr_weights: {curr_weights}')\n",
    "    return preds"
   ]
  },
  {
   "cell_type": "code",
   "execution_count": 12,
   "metadata": {},
   "outputs": [
    {
     "data": {
      "text/plain": [
       "array([0.1, 1. , 0.1])"
      ]
     },
     "execution_count": 12,
     "metadata": {},
     "output_type": "execute_result"
    }
   ],
   "source": [
    "preds"
   ]
  },
  {
   "cell_type": "code",
   "execution_count": 11,
   "metadata": {},
   "outputs": [],
   "source": [
    "preds = grad_desc_mult_outputs(wlrec[0],weights,goal_preds[0,:],alpha=0.1,max_iter=500,verbose=False)"
   ]
  },
  {
   "cell_type": "code",
   "execution_count": 18,
   "metadata": {},
   "outputs": [],
   "source": [
    "weights = np.array([[0.1,0.1,-0.3],[0.1,0.2,0.0],[0.0,1.3,0.1]])\n",
    "toes = np.array([8.5,9.5,9.9,9.0])\n",
    "wlrec = np.array([0.65,0.8,0.8,0.9])\n",
    "nfans = np.array([1.2,1.3,0.5,1.0])\n",
    "hurt = np.array([0.1,0.0,0.0,0.1])\n",
    "win = np.array([1.0,1.0,0.0,1.0])\n",
    "sad = np.array([0.1,0.0,0.1,0.2])"
   ]
  },
  {
   "cell_type": "code",
   "execution_count": 54,
   "metadata": {},
   "outputs": [],
   "source": [
    "transposed_weights = weights.T"
   ]
  },
  {
   "cell_type": "code",
   "execution_count": 55,
   "metadata": {},
   "outputs": [],
   "source": [
    "inputs = np.array([toes,wlrec,nfans]).T"
   ]
  },
  {
   "cell_type": "code",
   "execution_count": 21,
   "metadata": {},
   "outputs": [
    {
     "data": {
      "text/plain": [
       "array([[8.5 , 0.65, 1.2 ],\n",
       "       [9.5 , 0.8 , 1.3 ],\n",
       "       [9.9 , 0.8 , 0.5 ],\n",
       "       [9.  , 0.9 , 1.  ]])"
      ]
     },
     "execution_count": 21,
     "metadata": {},
     "output_type": "execute_result"
    }
   ],
   "source": [
    "inputs"
   ]
  },
  {
   "cell_type": "code",
   "execution_count": 23,
   "metadata": {},
   "outputs": [],
   "source": [
    "goal_preds = np.array([hurt,win,sad]).T"
   ]
  },
  {
   "cell_type": "code",
   "execution_count": null,
   "metadata": {},
   "outputs": [],
   "source": []
  },
  {
   "cell_type": "code",
   "execution_count": 91,
   "metadata": {},
   "outputs": [],
   "source": [
    "def grad_desc_generalized(inputs,initial_weights,goal_preds,alpha=0.1,max_iter=5000,thresh=0.0000001,verbose=True):\n",
    "    '''function to perform gradient descent with an arbitrary number of inputs,outputs, and weights for a fully connected\n",
    "    neural network\n",
    "    inputs (np.array): inputs to model\n",
    "    initial_weights (np.array): initial weights, could be randomized\n",
    "    goal_preds (np.array): ground truth output data that will be used for training model\n",
    "    alpha (float between 0 and 1): controls learning rate(amount weights adjust each iteration), small \n",
    "    will make convergence slower, large values will possibly make model diverge\n",
    "    max_iter (int): max iterations for training\n",
    "    thresh (float): error threshold to stop training\n",
    "    verbose (bool): to print diagnostic text or not \n",
    "    '''\n",
    "    \n",
    "    curr_weights = initial_weights\n",
    "    \n",
    "    for itern_num in range(max_iter):\n",
    "        preds = inputs.dot(curr_weights)\n",
    "        error = (preds - goal_preds) ** 2\n",
    "        \n",
    "        if np.average(error) < thresh:\n",
    "            break\n",
    "            \n",
    "        delta = preds - goal_preds\n",
    "        weight_deltas = np.outer(inputs,delta)\n",
    "        curr_weights = curr_weights - (alpha*weight_deltas)\n",
    "        if verbose:\n",
    "            print(f'Error: {error}')\n",
    "            print(f'Delta: {delta}')\n",
    "            print(f'weight_deltas: {weight_deltas}')\n",
    "            print(f'weights: {initial_weights}')\n",
    "            print(f'curr_weights: {curr_weights}')\n",
    "            \n",
    "    # return weights from model after training\n",
    "    return curr_weights,preds"
   ]
  },
  {
   "cell_type": "code",
   "execution_count": 75,
   "metadata": {},
   "outputs": [
    {
     "data": {
      "text/plain": [
       "array([8.5 , 0.65, 1.2 ])"
      ]
     },
     "execution_count": 75,
     "metadata": {},
     "output_type": "execute_result"
    }
   ],
   "source": [
    "inputs[0,:]"
   ]
  },
  {
   "cell_type": "code",
   "execution_count": 74,
   "metadata": {},
   "outputs": [
    {
     "data": {
      "text/plain": [
       "array([[ 0.1,  0.1, -0.3],\n",
       "       [ 0.1,  0.2,  0. ],\n",
       "       [ 0. ,  1.3,  0.1]])"
      ]
     },
     "execution_count": 74,
     "metadata": {},
     "output_type": "execute_result"
    }
   ],
   "source": [
    "weights"
   ]
  },
  {
   "cell_type": "code",
   "execution_count": 50,
   "metadata": {},
   "outputs": [
    {
     "data": {
      "text/plain": [
       "0.555"
      ]
     },
     "execution_count": 50,
     "metadata": {},
     "output_type": "execute_result"
    }
   ],
   "source": [
    "np.sum(inputs[0,:]*weights[0,:])"
   ]
  },
  {
   "cell_type": "code",
   "execution_count": 76,
   "metadata": {},
   "outputs": [
    {
     "data": {
      "text/plain": [
       "array([0.1, 1. , 0.1])"
      ]
     },
     "execution_count": 76,
     "metadata": {},
     "output_type": "execute_result"
    }
   ],
   "source": [
    "goal_preds[0,:]"
   ]
  },
  {
   "cell_type": "code",
   "execution_count": 89,
   "metadata": {},
   "outputs": [],
   "source": [
    "new_weights,preds = grad_desc_generalized(inputs[0,:],transposed_weights,goal_preds[0,:],alpha=0.01,verbose=False)"
   ]
  },
  {
   "cell_type": "code",
   "execution_count": 90,
   "metadata": {},
   "outputs": [
    {
     "data": {
      "text/plain": [
       "array([0.10013695, 0.99999398, 0.10026035])"
      ]
     },
     "execution_count": 90,
     "metadata": {},
     "output_type": "execute_result"
    }
   ],
   "source": [
    "preds"
   ]
  },
  {
   "cell_type": "code",
   "execution_count": null,
   "metadata": {},
   "outputs": [],
   "source": []
  }
 ],
 "metadata": {
  "kernelspec": {
   "display_name": "Python 3",
   "language": "python",
   "name": "python3"
  },
  "language_info": {
   "codemirror_mode": {
    "name": "ipython",
    "version": 3
   },
   "file_extension": ".py",
   "mimetype": "text/x-python",
   "name": "python",
   "nbconvert_exporter": "python",
   "pygments_lexer": "ipython3",
   "version": "3.6.4"
  }
 },
 "nbformat": 4,
 "nbformat_minor": 2
}
